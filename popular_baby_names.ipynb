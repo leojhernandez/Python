{
 "cells": [
  {
   "cell_type": "code",
   "execution_count": 2,
   "metadata": {},
   "outputs": [],
   "source": [
    "# lets move to the analysis\n",
    "import csv\n",
    "\n",
    "class Popular:\n",
    "    year = 0\n",
    "    name = \"\"\n",
    "    percent = 0\n",
    "    sex = \"\"\n",
    "\n",
    "#file = open('baby-names.csv')\n",
    "import csv\n",
    "#reader = csv.DictReader(file)\n",
    "\n",
    "# lets' create a new list \n",
    "names = []\n",
    "   \n",
    "with open('baby-names.csv', 'r') as newfile:\n",
    "    reader = csv.DictReader(newfile)\n",
    "    \n",
    "    for row in reader:\n",
    "        p = Popular()\n",
    "        p.year = int(row[\"year\"])\n",
    "        p.name = row[\"name\"] \n",
    "        p.percent = float(row[\"percent\"])\n",
    "        p.sex = row[\"sex\"]\n",
    "       \n",
    "        names.append(p)"
   ]
  },
  {
   "cell_type": "code",
   "execution_count": 3,
   "metadata": {},
   "outputs": [
    {
     "name": "stdout",
     "output_type": "stream",
     "text": [
      "John  % 8.1541\n",
      "Bernardo  % 0.0026\n"
     ]
    }
   ],
   "source": [
    "# lets find out the popular and unpopular names \n",
    "pop_names = max(names, key = lambda x: x.percent)\n",
    "not_pop_names = min(names, key = lambda x: x.percent)\n",
    "\n",
    "print(pop_names.name, \"%\", pop_names.percent * 100)\n",
    "print(not_pop_names.name, \"%\", not_pop_names.percent * 100)"
   ]
  },
  {
   "cell_type": "code",
   "execution_count": 4,
   "metadata": {},
   "outputs": [
    {
     "name": "stdout",
     "output_type": "stream",
     "text": [
      "Mary  % 5.7848\n"
     ]
    }
   ],
   "source": [
    "sex = \"girl\"\n",
    "style = \"modern\"\n",
    "fdata = filter(lambda x: x.sex == sex, names)\n",
    "if style == \"classic\":\n",
    "   fdata = filter(lambda x: x.year < 1900, fdata)\n",
    "elif style  == \"modern\":\n",
    "    fdata = filter(lambda x: x.year >= 1900, fdata)\n",
    "\n",
    "nmax = max(fdata, key = lambda x: x.percent)\n",
    "print(nmax.name , \" %\", nmax.percent * 100)"
   ]
  },
  {
   "cell_type": "code",
   "execution_count": 11,
   "metadata": {},
   "outputs": [
    {
     "name": "stdout",
     "output_type": "stream",
     "text": [
      "Ashley  % 2.9271\n"
     ]
    }
   ],
   "source": [
    "name = \"Jessica\"\n",
    "fdata = filter(lambda x: x.name == name, names)\n",
    "n_max = max(fdata, key = lambda x: x.percent)\n",
    "fdata = filter(lambda x: x.year == n_max.year and \\\n",
    "                         x.sex == n_max.sex and \\\n",
    "                         x.name != name , names)\n",
    "n_max = max(fdata, key = lambda x: x.percent)\n",
    "print(n_max.name , \" %\", n_max.percent * 100)\n"
   ]
  },
  {
   "cell_type": "code",
   "execution_count": 16,
   "metadata": {},
   "outputs": [
    {
     "data": {
      "image/png": "[encoded data removed]",
      "text/plain": [
       "<Figure size 432x288 with 1 Axes>"
      ]
     },
     "metadata": {
      "needs_background": "light"
     },
     "output_type": "display_data"
    }
   ],
   "source": [
    "%matplotlib inline\n",
    "\n",
    "name = \"Leonardo\"\n",
    "fdata = list(filter(lambda x : x.name == name, names))\n",
    "y = []\n",
    "x = range(1880,2009)\n",
    "pts = []\n",
    "for year in x:\n",
    "    ddata = list(filter(lambda x : x.year == year, fdata))\n",
    "    if len(ddata) == 0:\n",
    "        y.append(0)\n",
    "    else:\n",
    "        y.append(ddata[0].percent)\n",
    "    \n",
    "import matplotlib.pyplot as plt\n",
    "plt.plot(x,y)\n",
    "plt.show()"
   ]
  },
  {
   "cell_type": "code",
   "execution_count": null,
   "metadata": {},
   "outputs": [],
   "source": []
  }
 ],
 "metadata": {
  "kernelspec": {
   "display_name": "Python 3",
   "language": "python",
   "name": "python3"
  },
  "language_info": {
   "codemirror_mode": {
    "name": "ipython",
    "version": 3
   },
   "file_extension": ".py",
   "mimetype": "text/x-python",
   "name": "python",
   "nbconvert_exporter": "python",
   "pygments_lexer": "ipython3",
   "version": "3.7.3"
  }
 },
 "nbformat": 4,
 "nbformat_minor": 2
}
